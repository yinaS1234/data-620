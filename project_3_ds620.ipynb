{
  "nbformat": 4,
  "nbformat_minor": 0,
  "metadata": {
    "colab": {
      "provenance": []
    },
    "kernelspec": {
      "name": "python3",
      "display_name": "Python 3"
    },
    "language_info": {
      "name": "python"
    }
  },
  "cells": [
    {
      "cell_type": "markdown",
      "source": [
        "# Data 620 - Web Analytics Project 3\n",
        "Yina Qiao\n",
        "\n",
        "video link:\n"
      ],
      "metadata": {
        "id": "HZW7Lg3Q_5GK"
      }
    },
    {
      "cell_type": "markdown",
      "source": [
        "Using any of the three classifiers described in chapter 6 of NLP  with Python, and any features you can think of, build the best name gender classifier you can. Begin by splitting the Names Corpus into three subsets: 500 words for the test set, 500 words for the dev-test set, and the remaining 6900 words for the training set. Then, starting with the example name gender classifier, make incremental improvements. Use the dev-test set to check your progress. Once you are satisfied with your classifier, check its final performance on the test set.\n",
        "\n",
        "How does the performance on the test set compare to the performance on the dev-test set? Is this what you'd expect?\n",
        "\n",
        "Source: Natural Language Processing with Python, exercise 6.10.2."
      ],
      "metadata": {
        "id": "H2oF3m5Q_-Qa"
      }
    },
    {
      "cell_type": "markdown",
      "source": [
        "# Intro\n",
        "\n",
        " This project will forcus on gender classification on names using two classifiers, Naive Bayes and Decision Tree, and evaluates their performance on both the dev-test and test sets."
      ],
      "metadata": {
        "id": "6aV6lnfFACoF"
      }
    },
    {
      "cell_type": "markdown",
      "source": [
        "# Data import and wrangling"
      ],
      "metadata": {
        "id": "01wRbmSPAm48"
      }
    },
    {
      "cell_type": "code",
      "source": [
        "import nltk\n",
        "nltk.download('names')\n",
        "import random\n",
        "from nltk.classify import apply_features\n",
        "import pandas as pd\n",
        "from sklearn.model_selection import train_test_split\n",
        "from sklearn.naive_bayes import MultinomialNB\n",
        "from sklearn.tree import DecisionTreeClassifier\n",
        "from sklearn.metrics import accuracy_score, confusion_matrix\n",
        "\n",
        "# Get data\n",
        "names = ([(name, 'male') for name in nltk.corpus.names.words('male.txt')] +\n",
        "         [(name, 'female') for name in nltk.corpus.names.words('female.txt')])\n",
        "random.shuffle(names)"
      ],
      "metadata": {
        "colab": {
          "base_uri": "https://localhost:8080/"
        },
        "id": "bhtnM6puAst8",
        "outputId": "ccb5f78e-cee0-4139-a2ac-e2dad597baf6"
      },
      "execution_count": 2,
      "outputs": [
        {
          "output_type": "stream",
          "name": "stderr",
          "text": [
            "[nltk_data] Downloading package names to /root/nltk_data...\n",
            "[nltk_data]   Package names is already up-to-date!\n"
          ]
        }
      ]
    },
    {
      "cell_type": "markdown",
      "source": [
        "# Train-Test-Split"
      ],
      "metadata": {
        "id": "9srbvqS7AwsS"
      }
    },
    {
      "cell_type": "code",
      "source": [
        "\n",
        "# Split into test, dev-test, and training sets\n",
        "test_set = names[:500]\n",
        "dev_test_set = names[500:1000]\n",
        "train_set = names[1000:]"
      ],
      "metadata": {
        "id": "NOtWIFzcAzrW"
      },
      "execution_count": 3,
      "outputs": []
    },
    {
      "cell_type": "markdown",
      "source": [
        "# Feature Extraction"
      ],
      "metadata": {
        "id": "5MtQ4SeRA3og"
      }
    },
    {
      "cell_type": "code",
      "source": [
        "\n",
        "# Feature extraction function\n",
        "def gender_features(name):\n",
        "    features = {}\n",
        "    features[\"firstletter\"] = name[0].lower()\n",
        "    features[\"lastletter\"] = name[-1].lower()\n",
        "    features[\"last_is_vowel\"] = (name[-1] in 'aeiouy')\n",
        "    for letter in 'abcdefghijklmnopqrstuvwxyz':\n",
        "        features[\"count(%s)\" % letter] = name.lower().count(letter)\n",
        "        features[\"has(%s)\" % letter] = (letter in name.lower())\n",
        "        features[\"first(%s)\" % letter] = name.lower().find(letter)\n",
        "    features[\"suffix2\"] = name[-2:].lower()\n",
        "    features[\"last2\"] = (name[-2:].lower())\n",
        "    if len(name) >= 3:\n",
        "        features[\"last3\"] = (name[-3:].lower())\n",
        "    else:\n",
        "        features[\"last3\"] = (\" \" + name[-2:].lower())\n",
        "    features[\"length\"] = len(name)\n",
        "    return features\n",
        "\n",
        "# Create feature sets\n",
        "test_features = [(gender_features(n), g) for (n, g) in test_set]\n",
        "dev_test_features = [(gender_features(n), g) for (n, g) in dev_test_set]\n",
        "train_features = [(gender_features(n), g) for (n, g) in train_set]"
      ],
      "metadata": {
        "id": "Md8OJ-W3A9ic"
      },
      "execution_count": 4,
      "outputs": []
    },
    {
      "cell_type": "markdown",
      "source": [
        "# Classification & Accuracy"
      ],
      "metadata": {
        "id": "gAVGAXTuBALt"
      }
    },
    {
      "cell_type": "code",
      "execution_count": 5,
      "metadata": {
        "colab": {
          "base_uri": "https://localhost:8080/"
        },
        "id": "WmKx4PUQ-P1E",
        "outputId": "c70ba9ad-942b-471b-fc49-473082e473f9"
      },
      "outputs": [
        {
          "output_type": "stream",
          "name": "stdout",
          "text": [
            "Training Accuracy (Naive Bayes): 0.8254608294930875\n",
            "Training Accuracy (Decision Tree): 0.9544930875576036\n",
            "Dev-Test Accuracy (Naive Bayes): 0.8\n",
            "Dev-Test Accuracy (Decision Tree): 0.716\n",
            "Test Accuracy (Naive Bayes): 0.842\n",
            "Test Accuracy (Decision Tree): 0.746\n"
          ]
        }
      ],
      "source": [
        "\n",
        "\n",
        "# Classify using Naive Bayes and Decision Tree\n",
        "classifier_NB = nltk.NaiveBayesClassifier.train(train_features)\n",
        "classifier_DT = nltk.DecisionTreeClassifier.train(train_features)\n",
        "\n",
        "# Training accuracy\n",
        "print(\"Training Accuracy (Naive Bayes):\", nltk.classify.accuracy(classifier_NB, train_features))\n",
        "print(\"Training Accuracy (Decision Tree):\", nltk.classify.accuracy(classifier_DT, train_features))\n",
        "\n",
        "# Check accuracy on dev-test set\n",
        "dev_test_actual = [g for (_, g) in dev_test_features]\n",
        "dev_test_NB_predicted = [classifier_NB.classify(gender_features(n)) for (n, _) in dev_test_set]\n",
        "dev_test_DT_predicted = [classifier_DT.classify(gender_features(n)) for (n, _) in dev_test_set]\n",
        "\n",
        "print(\"Dev-Test Accuracy (Naive Bayes):\", accuracy_score(dev_test_actual, dev_test_NB_predicted))\n",
        "print(\"Dev-Test Accuracy (Decision Tree):\", accuracy_score(dev_test_actual, dev_test_DT_predicted))\n",
        "\n",
        "# Check accuracy on test set\n",
        "test_actual = [g for (_, g) in test_features]\n",
        "test_NB_predicted = [classifier_NB.classify(gender_features(n)) for (n, _) in test_set]\n",
        "test_DT_predicted = [classifier_DT.classify(gender_features(n)) for (n, _) in test_set]\n",
        "\n",
        "print(\"Test Accuracy (Naive Bayes):\", accuracy_score(test_actual, test_NB_predicted))\n",
        "print(\"Test Accuracy (Decision Tree):\", accuracy_score(test_actual, test_DT_predicted))\n"
      ]
    },
    {
      "cell_type": "markdown",
      "source": [
        "Naive Bayes Classifier:\n",
        "\n",
        "Training Accuracy: 0.825\n",
        "Dev-Test Accuracy: 0.8\n",
        "Test Accuracy: 0.842\n",
        "\n",
        "\n",
        "\n",
        "\n",
        "Decision Tree Classifier:\n",
        "\n",
        "Training Accuracy: 0.954\n",
        "Dev-Test Accuracy: 0.716\n",
        "Test Accuracy: 0.746"
      ],
      "metadata": {
        "id": "3iSWrtitEGtQ"
      }
    },
    {
      "cell_type": "markdown",
      "source": [
        "# Conclusion\n",
        "\n",
        "\n",
        "\n",
        "Question:ow does the performance on the test set compare to the performance on the dev-test set? Is this what you'd expect?\n",
        "\n",
        "1.  For the Naive Bayes Classifier, the performance on the test set (accuracy of 0.842) is slightly higher than the dev-test set (accuracy of 0.8). This indicates that the classifier generalizes well and performs slightly better on unseen data.\n",
        "2.   For the Decision Tree Classifier, the performance on the test set (accuracy of 0.746) is slightly higher than the dev-test set (accuracy of 0.716) but lower than the training accuracy indicating model performance drop when dealing with unsean data.\n",
        "\n",
        "\n",
        "\n",
        "Overall, the performance on the test set is relatively consistent with the dev-test set for both classifiers, aligning with our expectations. The Naive Bayes Classifier demonstrates good performance across all sets, while the Decision Tree Classifier shows a larger drop in performance, indicating potential overfitting or limited generalization ability"
      ],
      "metadata": {
        "id": "2f9vQS_rBuMl"
      }
    }
  ]
}