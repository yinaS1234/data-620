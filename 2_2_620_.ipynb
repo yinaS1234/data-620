{
  "nbformat": 4,
  "nbformat_minor": 0,
  "metadata": {
    "colab": {
      "provenance": []
    },
    "kernelspec": {
      "name": "python3",
      "display_name": "Python 3"
    },
    "language_info": {
      "name": "python"
    }
  },
  "cells": [
    {
      "cell_type": "markdown",
      "source": [
        "# **DATA 620 2.2 Centrality Measures**\n",
        "# **Yina Qiao**"
      ],
      "metadata": {
        "id": "2Frbwdd1KqF0"
      }
    },
    {
      "cell_type": "markdown",
      "source": [
        "**Instructions**\n",
        "\n",
        "Centrality measures can be used to predict (positive or negative) outcomes for a node.\n",
        "\n",
        "Your task in this week’s assignment is to identify an interesting set of network data that is available on the web (either through web scraping or web APIs) that could be used for analyzing and comparing centrality measures across nodes.  As an additional constraint, there should be at least one categorical variable available for each node (such as “Male” or “Female”; “Republican”, “Democrat,” or “Undecided”, etc.)\n",
        "\n",
        "In addition to identifying your data source, you should create a high level plan that describes how you would load the data for analysis, and describe a hypothetical outcome that could be predicted from comparing degree centrality across categorical groups.\n",
        "\n",
        "For this week’s assignment, you are not required to actually load or analyze the data.  Please see also Project 1 below.\n",
        "\n",
        "You may work in a small group on the assignment.   You should post your document to GitHub by end of day on Sunday."
      ],
      "metadata": {
        "id": "fXQVZVnsK0VI"
      }
    },
    {
      "cell_type": "markdown",
      "source": [
        "# Data: Downloaded and stored as CSV file in Github for easy access\n",
        "\n",
        "Stanford Network Analysis Project (SNAP)\n",
        "\n",
        "https://snap.stanford.edu/data/soc-sign-bitcoinotc.html\n",
        "\n",
        "\n",
        "\n",
        "  This is who-trusts-whom network of people who trade using Bitcoin on a platform called Bitcoin OTC. Since Bitcoin users are anonymous, there is a need to maintain a record of users' reputation to prevent transactions with fraudulent and risky users. Members of Bitcoin OTC rate other members in a scale of -10 (total distrust) to +10 (total trust) in steps of 1. This is the first explicit weighted signed directed network available for research.\n",
        "\n",
        "\n",
        ""
      ],
      "metadata": {
        "id": "MTIDrYYaK_o0"
      }
    },
    {
      "cell_type": "markdown",
      "source": [
        "  SOURCE: node id of source, i.e., rater\n",
        "\n",
        "\n",
        "\n",
        "\n",
        "  TARGET: node id of target, i.e., ratee\n",
        "\n",
        "  RATING: the source's rating for the target, ranging from -10 to +10 in steps of 1\n",
        "\n",
        "  TIME: the time of the rating, measured as seconds since Epoch. (This can be converted to human readable data easily as described here)\n",
        "\n",
        "\n",
        "\n"
      ],
      "metadata": {
        "id": "yooik8rbMTy2"
      }
    },
    {
      "cell_type": "markdown",
      "source": [
        "# Approach\n",
        "\n",
        "\n",
        "RATING variable in a categorical manner, where RATING >= 0 is Positive and RATING < 0 is Negative\n",
        "\n",
        "\n",
        "\n",
        "\n",
        "\n",
        "Hypothsis:  TARGET nodes with positive trust will exhibit higher average degree centrality than TARGET nodes with negative trust.\n",
        "\n",
        "\n",
        "\n",
        "\n",
        "\n",
        "It is reasonable to assume that a SOURCE user will only connect with TARGET users they trust, thus avoiding connections with untrusted TARGET users. Consequently, well-trusted TARGET users are likely to have more connections and, therefore, higher degree centrality compared to others.\n",
        "\n"
      ],
      "metadata": {
        "id": "UpOPX9VZMvgL"
      }
    },
    {
      "cell_type": "markdown",
      "source": [
        "Reference:\n",
        "\n",
        "Stanford Network Analysis Project (SNAP)\n",
        "https://snap.stanford.edu/data/soc-sign-bitcoinotc.html\n"
      ],
      "metadata": {
        "id": "Q3Q5q4kfQSIx"
      }
    }
  ]
}